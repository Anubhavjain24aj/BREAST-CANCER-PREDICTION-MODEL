{
  "nbformat": 4,
  "nbformat_minor": 0,
  "metadata": {
    "colab": {
      "provenance": [],
      "authorship_tag": "ABX9TyNtnbpVy/jievK5OsTN4+yV",
      "include_colab_link": true
    },
    "kernelspec": {
      "name": "python3",
      "display_name": "Python 3"
    },
    "language_info": {
      "name": "python"
    }
  },
  "cells": [
    {
      "cell_type": "markdown",
      "metadata": {
        "id": "view-in-github",
        "colab_type": "text"
      },
      "source": [
        "<a href=\"https://colab.research.google.com/github/Anubhavjain24aj/BREAST-CANCER-PREDICTION-MODEL/blob/main/lab28_11_BREAST_CANCER_PREDICTION_MODEL.ipynb\" target=\"_parent\"><img src=\"https://colab.research.google.com/assets/colab-badge.svg\" alt=\"Open In Colab\"/></a>"
      ]
    },
    {
      "cell_type": "code",
      "execution_count": null,
      "metadata": {
        "colab": {
          "base_uri": "https://localhost:8080/"
        },
        "id": "YhkbyUHD5sEF",
        "outputId": "8a59ebd5-9533-4b11-ec18-7e3ddb7f0237"
      },
      "outputs": [
        {
          "output_type": "stream",
          "name": "stdout",
          "text": [
            "(569, 30)\n",
            "(569,)\n",
            "[0 0 0 0 0 0 0 0 0 0 0 0 0 0 0 0 0 0 0 1 1 1 0 0 0 0 0 0 0 0 0 0 0 0 0 0 0\n",
            " 1 0 0 0 0 0 0 0 0 1 0 1 1 1 1 1 0 0 1 0 0 1 1 1 1 0 1 0 0 1 1 1 1 0 1 0 0\n",
            " 1 0 1 0 0 1 1 1 0 0 1 0 0 0 1 1 1 0 1 1 0 0 1 1 1 0 0 1 1 1 1 0 1 1 0 1 1\n",
            " 1 1 1 1 1 1 0 0 0 1 0 0 1 1 1 0 0 1 0 1 0 0 1 0 0 1 1 0 1 1 0 1 1 1 1 0 1\n",
            " 1 1 1 1 1 1 1 1 0 1 1 1 1 0 0 1 0 1 1 0 0 1 1 0 0 1 1 1 1 0 1 1 0 0 0 1 0\n",
            " 1 0 1 1 1 0 1 1 0 0 1 0 0 0 0 1 0 0 0 1 0 1 0 1 1 0 1 0 0 0 0 1 1 0 0 1 1\n",
            " 1 0 1 1 1 1 1 0 0 1 1 0 1 1 0 0 1 0 1 1 1 1 0 1 1 1 1 1 0 1 0 0 0 0 0 0 0\n",
            " 0 0 0 0 0 0 0 1 1 1 1 1 1 0 1 0 1 1 0 1 1 0 1 0 0 1 1 1 1 1 1 1 1 1 1 1 1\n",
            " 1 0 1 1 0 1 0 1 1 1 1 1 1 1 1 1 1 1 1 1 1 0 1 1 1 0 1 0 1 1 1 1 0 0 0 1 1\n",
            " 1 1 0 1 0 1 0 1 1 1 0 1 1 1 1 1 1 1 0 0 0 1 1 1 1 1 1 1 1 1 1 1 0 0 1 0 0\n",
            " 0 1 0 0 1 1 1 1 1 0 1 1 1 1 1 0 1 1 1 0 1 1 0 0 1 1 1 1 1 1 0 1 1 1 1 1 1\n",
            " 1 0 1 1 1 1 1 0 1 1 0 1 1 1 1 1 1 1 1 1 1 1 1 0 1 0 0 1 0 1 1 1 1 1 0 1 1\n",
            " 0 1 0 1 1 0 1 0 1 1 1 1 1 1 1 1 0 0 1 1 1 1 1 1 0 1 1 1 1 1 1 1 1 1 1 0 1\n",
            " 1 1 1 1 1 1 0 1 0 1 1 0 1 1 1 1 1 0 0 1 0 1 0 1 1 1 1 1 0 1 1 0 1 0 1 0 0\n",
            " 1 1 1 0 1 1 1 1 1 1 1 1 1 1 1 0 1 0 0 1 1 1 1 1 1 1 1 1 1 1 1 1 1 1 1 1 1\n",
            " 1 1 1 1 1 1 1 0 0 0 0 0 0 1]\n"
          ]
        }
      ],
      "source": [
        " from sklearn.datasets import load_breast_cancer\n",
        " x,y=load_breast_cancer(return_X_y=True)\n",
        " print(x.shape)\n",
        " print(y.shape)\n",
        " print(y)"
      ]
    },
    {
      "cell_type": "code",
      "source": [
        "from sklearn.model_selection import train_test_split\n",
        "x_train,x_test,y_train,y_test=train_test_split(x,y,test_size=0.3,random_state=0)\n",
        "print(x_train.shape)\n",
        "print(x_test.shape)\n",
        "print(y_train.shape)\n",
        "print(y_test.shape)\n"
      ],
      "metadata": {
        "colab": {
          "base_uri": "https://localhost:8080/"
        },
        "id": "G5Y_0aio-q4h",
        "outputId": "66ec4230-ad4f-48b9-e9d0-2b93760d74ea"
      },
      "execution_count": null,
      "outputs": [
        {
          "output_type": "stream",
          "name": "stdout",
          "text": [
            "(398, 30)\n",
            "(171, 30)\n",
            "(398,)\n",
            "(171,)\n"
          ]
        }
      ]
    },
    {
      "cell_type": "code",
      "source": [
        "from sklearn.linear_model import Perceptron,LogisticRegression\n",
        "from sklearn.svm import SVC\n",
        "from sklearn.naive_bayes import GaussianNB\n",
        "from sklearn.neighbors import KNeighborsClassifier\n",
        "from sklearn.tree import DecisionTreeClassifier\n",
        "clf1=Perceptron()\n",
        "clf2=LogisticRegression()\n",
        "clf3=SVC()\n",
        "clf4=GaussianNB()\n",
        "clf5=KNeighborsClassifier()\n",
        "clf6=DecisionTreeClassifier()\n",
        "clf=[clf1,clf2,clf3,clf4,clf5,clf6]\n",
        "clf_name=['PERC','LR','SVM','GNB','KNN','DT']\n",
        "acc={}\n",
        "T={}\n",
        "import time\n",
        "from sklearn.metrics import accuracy_score"
      ],
      "metadata": {
        "id": "lfcMKZIdAPci"
      },
      "execution_count": null,
      "outputs": []
    },
    {
      "cell_type": "code",
      "source": [
        "for model,model_name in zip(clf,clf_name):\n",
        "  st=time.time()\n",
        "  model.fit(x_train,y_train)\n",
        "  y_pred=model.predict(x_test)\n",
        "  et=time.time()\n",
        "  acc[model_name]=accuracy_score(y_pred,y_test)\n",
        "  T[model_name]=et-st"
      ],
      "metadata": {
        "colab": {
          "base_uri": "https://localhost:8080/"
        },
        "id": "tfPYvA_fCIJL",
        "outputId": "ef26f923-107d-4f41-d9f0-70c5457545d1"
      },
      "execution_count": null,
      "outputs": [
        {
          "output_type": "stream",
          "name": "stderr",
          "text": [
            "/usr/local/lib/python3.10/dist-packages/sklearn/linear_model/_logistic.py:458: ConvergenceWarning: lbfgs failed to converge (status=1):\n",
            "STOP: TOTAL NO. of ITERATIONS REACHED LIMIT.\n",
            "\n",
            "Increase the number of iterations (max_iter) or scale the data as shown in:\n",
            "    https://scikit-learn.org/stable/modules/preprocessing.html\n",
            "Please also refer to the documentation for alternative solver options:\n",
            "    https://scikit-learn.org/stable/modules/linear_model.html#logistic-regression\n",
            "  n_iter_i = _check_optimize_result(\n"
          ]
        }
      ]
    },
    {
      "cell_type": "code",
      "source": [
        "for i,j in acc.items():\n",
        "  print(i,\":-\",j*100)"
      ],
      "metadata": {
        "colab": {
          "base_uri": "https://localhost:8080/"
        },
        "id": "gq3wpV4QEO-r",
        "outputId": "0987e1d8-3660-4a3f-f68a-9f9dd89a7805"
      },
      "execution_count": null,
      "outputs": [
        {
          "output_type": "stream",
          "name": "stdout",
          "text": [
            "PERC :- 90.64327485380117\n",
            "LR :- 95.32163742690058\n",
            "SVM :- 92.39766081871345\n",
            "GNB :- 92.39766081871345\n",
            "KNN :- 94.73684210526315\n",
            "DT :- 92.39766081871345\n"
          ]
        }
      ]
    },
    {
      "cell_type": "code",
      "source": [
        "for i,j in acc.items():\n",
        "  print(i,\":-\",j*100)\n",
        "\n",
        "import matplotlib.pyplot as plt\n",
        "plt.bar(acc.keys(),acc.values())\n",
        "plt.title('BREAST CANCER PREDICTION USINMG ML')"
      ],
      "metadata": {
        "colab": {
          "base_uri": "https://localhost:8080/",
          "height": 574
        },
        "id": "i9H7sK9nEQ1b",
        "outputId": "a2345bae-021c-46dc-e902-110f7cef3d49"
      },
      "execution_count": null,
      "outputs": [
        {
          "output_type": "stream",
          "name": "stdout",
          "text": [
            "PERC :- 90.64327485380117\n",
            "LR :- 95.32163742690058\n",
            "SVM :- 92.39766081871345\n",
            "GNB :- 92.39766081871345\n",
            "KNN :- 94.73684210526315\n",
            "DT :- 92.39766081871345\n"
          ]
        },
        {
          "output_type": "execute_result",
          "data": {
            "text/plain": [
              "Text(0.5, 1.0, 'BREAST CANCER PREDICTION USINMG ML')"
            ]
          },
          "metadata": {},
          "execution_count": 9
        },
        {
          "output_type": "display_data",
          "data": {
            "text/plain": [
              "<Figure size 640x480 with 1 Axes>"
            ],
            "image/png": "[encoded data removed]"
          },
          "metadata": {}
        }
      ]
    },
    {
      "cell_type": "code",
      "source": [
        "for i,j in T.items():\n",
        "  print(i,\":-\",j)"
      ],
      "metadata": {
        "colab": {
          "base_uri": "https://localhost:8080/"
        },
        "id": "6b35cuXkFI7r",
        "outputId": "233b06e4-4afd-4920-e7ff-4f1e91e6b751"
      },
      "execution_count": null,
      "outputs": [
        {
          "output_type": "stream",
          "name": "stdout",
          "text": [
            "PERC :- 0.00491023063659668\n",
            "LR :- 0.05620241165161133\n",
            "SVM :- 0.009780645370483398\n",
            "GNB :- 0.002422332763671875\n",
            "KNN :- 0.11690163612365723\n",
            "DT :- 0.00866079330444336\n"
          ]
        }
      ]
    },
    {
      "cell_type": "code",
      "source": [
        "from sklearn.ensemble import RandomForestClassifier,ExtraTreesClassifier\n",
        "from sklearn.ensemble import BaggingClassifier\n",
        "from sklearn.ensemble import VotingClassifier\n",
        "from sklearn.ensemble import AdaBoostClassifier,GradientBoostingClassifier\n",
        "# LightGBM,XGBoost,CATBoost\n",
        "clf1=RandomForestClassifier(n_estimators=100)\n",
        "clf2=ExtraTreesClassifier(n_estimators=100)\n",
        "\n",
        "clf4=AdaBoostClassifier(n_estimators=100)\n",
        "clf5=GradientBoostingClassifier(n_estimators=100)\n",
        "clf6=VotingClassifier(estimators=[('rf',clf1),('et',clf2),\n",
        "                                  ('ada',clf4),('gbc',clf5)],voting='hard',weights=[1,1,1,1,1])\n"
      ],
      "metadata": {
        "id": "HRUjOb4qKuWt"
      },
      "execution_count": 4,
      "outputs": []
    },
    {
      "cell_type": "code",
      "source": [
        "clf=[clf1,clf2,clf4,clf5,clf6]\n",
        "clf_name=['RF','ET','ADA','GBC','VT']"
      ],
      "metadata": {
        "id": "1yPuEsUXKDGc"
      },
      "execution_count": 5,
      "outputs": []
    }
  ]
}